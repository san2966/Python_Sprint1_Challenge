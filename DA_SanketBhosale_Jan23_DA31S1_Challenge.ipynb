{
 "cells": [
  {
   "cell_type": "markdown",
   "id": "9cd7f57f",
   "metadata": {},
   "source": [
    "# Task-1:-"
   ]
  },
  {
   "cell_type": "markdown",
   "id": "7419dbdd",
   "metadata": {},
   "source": [
    "- Matt wants to wake up early in NYC to get used to the local time in france in prior to his travel.\n",
    "help matt to develop a python code that shows current time in france when he enters the local time in NYC as 22hrs.\n",
    "- note: NYC is 6 hrs behind of france."
   ]
  },
  {
   "cell_type": "code",
   "execution_count": 2,
   "id": "0106d585",
   "metadata": {},
   "outputs": [],
   "source": [
    "NYC=22"
   ]
  },
  {
   "cell_type": "code",
   "execution_count": 3,
   "id": "1fc79ea2",
   "metadata": {},
   "outputs": [],
   "source": [
    "France=(NYC+6)"
   ]
  },
  {
   "cell_type": "code",
   "execution_count": 76,
   "id": "7ee0386e",
   "metadata": {},
   "outputs": [
    {
     "name": "stdout",
     "output_type": "stream",
     "text": [
      "4 am\n"
     ]
    }
   ],
   "source": [
    "Time= print(France-24,'am')"
   ]
  },
  {
   "cell_type": "markdown",
   "id": "87ec46ff",
   "metadata": {},
   "source": [
    "Interpretation :-\n",
    "   - The current time in the France is 4am at morning.\n",
    "   - The time differace between NYC and France is 6 hrs."
   ]
  },
  {
   "cell_type": "markdown",
   "id": "42d914b3",
   "metadata": {},
   "source": [
    "- =============================================================================================================================="
   ]
  },
  {
   "cell_type": "markdown",
   "id": "1e402a03",
   "metadata": {},
   "source": [
    "# Task-2:-"
   ]
  },
  {
   "cell_type": "markdown",
   "id": "1c13a9df",
   "metadata": {},
   "source": [
    "- Matt wants to carry 500 euro wich he wants to get it from the locl currency exchange agent in NYC. \n",
    "- There is 1.75% service charge to currency exchange.\n",
    "- How many doller matt need to spend 500 euros including 1.75% service charge.\n",
    "- Note: Assume 1.1 Doller= 1 Euro."
   ]
  },
  {
   "cell_type": "markdown",
   "id": "47f53570",
   "metadata": {},
   "source": [
    "Euro = 1.1'Doller'"
   ]
  },
  {
   "cell_type": "code",
   "execution_count": 2,
   "id": "d79ae500",
   "metadata": {},
   "outputs": [],
   "source": [
    "service_charge= (1.75/100)*500"
   ]
  },
  {
   "cell_type": "code",
   "execution_count": 3,
   "id": "d64684e3",
   "metadata": {},
   "outputs": [
    {
     "name": "stdout",
     "output_type": "stream",
     "text": [
      "8.75 Euro\n"
     ]
    }
   ],
   "source": [
    "print(service_charge,'Euro')"
   ]
  },
  {
   "cell_type": "code",
   "execution_count": 28,
   "id": "9d183758",
   "metadata": {},
   "outputs": [
    {
     "name": "stdout",
     "output_type": "stream",
     "text": [
      "491.25 Euro\n"
     ]
    }
   ],
   "source": [
    "print(500-8.75,'Euro')"
   ]
  },
  {
   "cell_type": "code",
   "execution_count": null,
   "id": "119479e4",
   "metadata": {},
   "outputs": [],
   "source": [
    "Exchenge rate = 1.1 Doller/Euro"
   ]
  },
  {
   "cell_type": "code",
   "execution_count": 27,
   "id": "25d76dff",
   "metadata": {},
   "outputs": [
    {
     "name": "stdout",
     "output_type": "stream",
     "text": [
      "540.375 dollers\n"
     ]
    }
   ],
   "source": [
    "print(491.25*1.1,'dollers')"
   ]
  },
  {
   "cell_type": "markdown",
   "id": "edb575d5",
   "metadata": {},
   "source": [
    "Interpretation :-\n",
    "- Matt would need to spend 540.38 Dollars to get 500 Euros. \n",
    "- after the 1.75% service charge at the currency exchange which is 8.75$."
   ]
  },
  {
   "cell_type": "markdown",
   "id": "36f2f98f",
   "metadata": {},
   "source": [
    "- =============================================================================================================================="
   ]
  },
  {
   "cell_type": "markdown",
   "id": "939a1736",
   "metadata": {},
   "source": [
    "# Task-3:-"
   ]
  },
  {
   "cell_type": "markdown",
   "id": "6e2eb5de",
   "metadata": {},
   "source": [
    "- Matt figure out that he will spending approx. 20% more money in france in a month that he spends in NYC.\n",
    "- If he spends $4000 per month (30 month) in NYC how many doller will matt need for his 45 day trip in France."
   ]
  },
  {
   "cell_type": "markdown",
   "id": "dbf91855",
   "metadata": {},
   "source": [
    "- 1) France is 20% more than NYC. "
   ]
  },
  {
   "cell_type": "markdown",
   "id": "1116f534",
   "metadata": {},
   "source": [
    "- 2) month(30days)=$4000"
   ]
  },
  {
   "cell_type": "markdown",
   "id": "4baf1e5e",
   "metadata": {},
   "source": [
    "- 3) for 45 days=_+20%"
   ]
  },
  {
   "cell_type": "code",
   "execution_count": 33,
   "id": "a13b0894",
   "metadata": {},
   "outputs": [
    {
     "name": "stdout",
     "output_type": "stream",
     "text": [
      "133.33333333333334 Dollers per day\n"
     ]
    }
   ],
   "source": [
    "daily_expence = 4000/30\n",
    "print(daily_expence,'Dollers per day')"
   ]
  },
  {
   "cell_type": "code",
   "execution_count": 34,
   "id": "aab8050a",
   "metadata": {},
   "outputs": [
    {
     "name": "stdout",
     "output_type": "stream",
     "text": [
      "6000.0 Dollers\n"
     ]
    }
   ],
   "source": [
    "france_trip = daily_expence*45\n",
    "print(france_trip,'Dollers')"
   ]
  },
  {
   "cell_type": "code",
   "execution_count": 40,
   "id": "32269444",
   "metadata": {},
   "outputs": [
    {
     "name": "stdout",
     "output_type": "stream",
     "text": [
      "1200.0 Dollers\n"
     ]
    }
   ],
   "source": [
    "percentage= (france_trip/100)*20\n",
    "print(percentage,'Dollers')"
   ]
  },
  {
   "cell_type": "code",
   "execution_count": 39,
   "id": "c7c2bd62",
   "metadata": {},
   "outputs": [
    {
     "name": "stdout",
     "output_type": "stream",
     "text": [
      "7200.0 Dollers\n"
     ]
    }
   ],
   "source": [
    "final_expence=france_trip+percentage\n",
    "print(final_expence,'Dollers')"
   ]
  },
  {
   "cell_type": "markdown",
   "id": "399c1b74",
   "metadata": {},
   "source": [
    "Interpretation :-\n",
    "    - The total expence for 45 days is around 6000$.\n",
    "    - The expence differance is 20% between NYC and France which is around 1200$.\n",
    "    - The Final expence is 7200$ for 45 days."
   ]
  },
  {
   "cell_type": "markdown",
   "id": "a8e0afc6",
   "metadata": {},
   "source": [
    "- =============================================================================================================================="
   ]
  },
  {
   "cell_type": "markdown",
   "id": "4a7a36cb",
   "metadata": {},
   "source": [
    "# Task-4:-"
   ]
  },
  {
   "cell_type": "markdown",
   "id": "626b8c73",
   "metadata": {},
   "source": [
    "- Matt wants to invest in stocks help him to earn some extra money for his trip to france.\n",
    "- Matt invested in certain stock that will yeild 5% intrest over a month as mentioned by his agent.\n",
    "- If matt invested $20000, what will the profit after 1 month."
   ]
  },
  {
   "cell_type": "markdown",
   "id": "b3aec003",
   "metadata": {},
   "source": [
    "1) Invested = $20,000/-"
   ]
  },
  {
   "cell_type": "markdown",
   "id": "fb5da6aa",
   "metadata": {},
   "source": [
    "2) Intrest = 5%"
   ]
  },
  {
   "cell_type": "code",
   "execution_count": 46,
   "id": "70cbd0f8",
   "metadata": {},
   "outputs": [
    {
     "name": "stdout",
     "output_type": "stream",
     "text": [
      "1000.0 $\n"
     ]
    }
   ],
   "source": [
    "Intrest= (5/100)*20000\n",
    "print(Intrest,'$')"
   ]
  },
  {
   "cell_type": "code",
   "execution_count": 47,
   "id": "9b7029b7",
   "metadata": {},
   "outputs": [
    {
     "name": "stdout",
     "output_type": "stream",
     "text": [
      "21000.0 $\n"
     ]
    }
   ],
   "source": [
    "Profit = 20000+Intrest\n",
    "print(Profit,'$')"
   ]
  },
  {
   "cell_type": "markdown",
   "id": "29e4247c",
   "metadata": {},
   "source": [
    "Interpretation:-\n",
    "    - Here we got 1000$ where Intrest rate is 5%.\n",
    "    - So the total amount about 21000."
   ]
  },
  {
   "cell_type": "markdown",
   "id": "9bbb613e",
   "metadata": {},
   "source": [
    "- =============================================================================================================================="
   ]
  },
  {
   "cell_type": "markdown",
   "id": "3bb39241",
   "metadata": {},
   "source": [
    "# Task-5:-"
   ]
  },
  {
   "cell_type": "markdown",
   "id": "5bd53678",
   "metadata": {},
   "source": [
    "- Matt wants to practice walking long distance to help him explore tourist places in france.\n",
    "- He figure out that, on average, an adventure seeking tourist in france walks around 12 Km/day.\n",
    "- Calculate the number of miles that matt should practice walking per day while he is in NYC.\n",
    "- Note: 1 km =o.602 miles."
   ]
  },
  {
   "cell_type": "markdown",
   "id": "375548ac",
   "metadata": {},
   "source": [
    "1) walk = 12km/day"
   ]
  },
  {
   "cell_type": "markdown",
   "id": "95aec28a",
   "metadata": {},
   "source": [
    "2) 1 km = 0.602miles"
   ]
  },
  {
   "cell_type": "code",
   "execution_count": 48,
   "id": "2cca53f3",
   "metadata": {},
   "outputs": [
    {
     "name": "stdout",
     "output_type": "stream",
     "text": [
      "7.224 miles/day\n"
     ]
    }
   ],
   "source": [
    "total_walk= 0.602*12\n",
    "print(total_walk,'miles/day')"
   ]
  },
  {
   "cell_type": "markdown",
   "id": "4ff44d12",
   "metadata": {},
   "source": [
    "Interpretation :-\n",
    "    - The average walk in a day is about 7.224 miles per day."
   ]
  },
  {
   "cell_type": "markdown",
   "id": "ca9c1580",
   "metadata": {},
   "source": [
    "- =============================================================================================================================="
   ]
  },
  {
   "cell_type": "markdown",
   "id": "d2247754",
   "metadata": {},
   "source": [
    "# Task-6:-"
   ]
  },
  {
   "cell_type": "markdown",
   "id": "3cbbbb0b",
   "metadata": {},
   "source": [
    "- Tour de France bicycle race involves covering 3,328 km approx. \n",
    "- Matt is curious to know how many laps an athlete will have to complete in bicycle training facility\n",
    "- If one lap in the practice track is 1.2 miles long."
   ]
  },
  {
   "cell_type": "markdown",
   "id": "eb5845d1",
   "metadata": {},
   "source": [
    "1)total covering = 3328km"
   ]
  },
  {
   "cell_type": "markdown",
   "id": "ee985a38",
   "metadata": {},
   "source": [
    "2)practice track = 1.2miles."
   ]
  },
  {
   "cell_type": "code",
   "execution_count": 53,
   "id": "177b3732",
   "metadata": {},
   "outputs": [
    {
     "name": "stdout",
     "output_type": "stream",
     "text": [
      "2003.456 miles\n"
     ]
    }
   ],
   "source": [
    "race_track= 3328*0.602\n",
    "print(race_track,'miles')"
   ]
  },
  {
   "cell_type": "code",
   "execution_count": 54,
   "id": "f2de6edc",
   "metadata": {},
   "outputs": [
    {
     "name": "stdout",
     "output_type": "stream",
     "text": [
      "1669.0 Laps\n"
     ]
    }
   ],
   "source": [
    "facility_track=race_track//1.2\n",
    "print(facility_track,'Laps')"
   ]
  },
  {
   "cell_type": "markdown",
   "id": "17732824",
   "metadata": {},
   "source": [
    "Interpretation:-\n",
    "    - Total Distance of the racing is 3328km\n",
    "    - The Distance convert into the miles is 2003.456 miles.\n",
    "    - Total laps required for covering the distance is 1669 laps."
   ]
  },
  {
   "cell_type": "markdown",
   "id": "fcb4bb77",
   "metadata": {},
   "source": [
    "- =============================================================================================================================="
   ]
  },
  {
   "cell_type": "markdown",
   "id": "8a922d42",
   "metadata": {},
   "source": [
    "# Task- 7"
   ]
  },
  {
   "cell_type": "markdown",
   "id": "912ef3ac",
   "metadata": {},
   "source": [
    "- Matt figures out that an average athlete can complete one lap in 2min.\n",
    "- If the athlete wants to take a 10 min break after every 5 laps, need a 1-hour lunch break.\n",
    "- Does not want to ride the bicycle for more than 10 hrs a day.\n",
    "- How many days will the athlete need to complete the distace of 3328km."
   ]
  },
  {
   "cell_type": "markdown",
   "id": "fa4f77a7",
   "metadata": {},
   "source": [
    "1 lap = 2 min"
   ]
  },
  {
   "cell_type": "markdown",
   "id": "784bdf47",
   "metadata": {},
   "source": [
    "5 lap = 10 min"
   ]
  },
  {
   "cell_type": "markdown",
   "id": "31904226",
   "metadata": {},
   "source": [
    "rest = 10 min"
   ]
  },
  {
   "cell_type": "markdown",
   "id": "ca8c21a6",
   "metadata": {},
   "source": [
    "bicycle ride in a day = 10 hrs."
   ]
  },
  {
   "cell_type": "markdown",
   "id": "e3ae0edd",
   "metadata": {},
   "source": [
    "lunch break = 1hr"
   ]
  },
  {
   "cell_type": "markdown",
   "id": "0aba4b09",
   "metadata": {},
   "source": [
    "total ride in a day = 10-1 = 9Hrs."
   ]
  },
  {
   "cell_type": "markdown",
   "id": "ac5a6e27",
   "metadata": {},
   "source": [
    "complete distance = 3328km = 2003.456 miles."
   ]
  },
  {
   "cell_type": "code",
   "execution_count": 60,
   "id": "cf799835",
   "metadata": {},
   "outputs": [
    {
     "name": "stdout",
     "output_type": "stream",
     "text": [
      "15 laps\n"
     ]
    }
   ],
   "source": [
    "one_hour = 15\n",
    "print(one_hour,'laps')"
   ]
  },
  {
   "cell_type": "code",
   "execution_count": 63,
   "id": "1464208c",
   "metadata": {},
   "outputs": [
    {
     "name": "stdout",
     "output_type": "stream",
     "text": [
      "135 laps per day\n"
     ]
    }
   ],
   "source": [
    "one_day=one_hour*9\n",
    "print(one_day,'laps per day')"
   ]
  },
  {
   "cell_type": "markdown",
   "id": "5f63639f",
   "metadata": {},
   "source": [
    "- one lap =1.2 miles"
   ]
  },
  {
   "cell_type": "code",
   "execution_count": 64,
   "id": "deaa55c2",
   "metadata": {},
   "outputs": [
    {
     "name": "stdout",
     "output_type": "stream",
     "text": [
      "162.0 miles\n"
     ]
    }
   ],
   "source": [
    "Dist_Day= 135*1.2\n",
    "print(Dist_Day,'miles')"
   ]
  },
  {
   "cell_type": "code",
   "execution_count": 68,
   "id": "ec0264f2",
   "metadata": {},
   "outputs": [
    {
     "name": "stdout",
     "output_type": "stream",
     "text": [
      "12.367012345679012 Days\n"
     ]
    }
   ],
   "source": [
    "Total_Days = 2003.456/Dist_Day\n",
    "print(Total_Days,'Days')"
   ]
  },
  {
   "cell_type": "markdown",
   "id": "045005df",
   "metadata": {},
   "source": [
    "Interpretation :-\n",
    "    - Athlete completes 15 laps in one hour.\n",
    "    - Using this, Its complete total 135 laps in a single day.\n",
    "    - when we convert it into distance we got 162 miles per day.\n",
    "    - Its takes approx 12 days to complete the total distance."
   ]
  },
  {
   "cell_type": "markdown",
   "id": "27193367",
   "metadata": {},
   "source": [
    "- =============================================================================================================================="
   ]
  },
  {
   "cell_type": "markdown",
   "id": "05e05be3",
   "metadata": {},
   "source": [
    "# Task-8:-"
   ]
  },
  {
   "cell_type": "markdown",
   "id": "9bf387bc",
   "metadata": {},
   "source": [
    "- Matt wants to pick up some fresh grape juice from local stores in France. \n",
    "- However, the bottle size are marked in 750ml as opposed to ounces(oz) in the US.\n",
    "- Help Matt calculate the number of botteles of grape juice he needs to buy for 2 weeks.\n",
    "- If he wants to drink 10 oz juice every night.\n",
    "note : 1oz= 30ml."
   ]
  },
  {
   "cell_type": "markdown",
   "id": "220f675b",
   "metadata": {},
   "source": [
    "bottle size = 750ml."
   ]
  },
  {
   "cell_type": "markdown",
   "id": "4d5517c6",
   "metadata": {},
   "source": [
    "2 weeks = 14 days"
   ]
  },
  {
   "cell_type": "markdown",
   "id": "5cc5ab72",
   "metadata": {},
   "source": [
    "every night = 10oz = 30ml."
   ]
  },
  {
   "cell_type": "code",
   "execution_count": 77,
   "id": "ee9bddd9",
   "metadata": {},
   "outputs": [
    {
     "name": "stdout",
     "output_type": "stream",
     "text": [
      "10 oz\n"
     ]
    }
   ],
   "source": [
    "one_day=10\n",
    "print(one_day,'oz')"
   ]
  },
  {
   "cell_type": "code",
   "execution_count": 78,
   "id": "76dc91f4",
   "metadata": {},
   "outputs": [
    {
     "name": "stdout",
     "output_type": "stream",
     "text": [
      "140 oz\n"
     ]
    }
   ],
   "source": [
    "Two_week= one_day*14\n",
    "print(Two_week,'oz')"
   ]
  },
  {
   "cell_type": "code",
   "execution_count": 72,
   "id": "5301e729",
   "metadata": {},
   "outputs": [
    {
     "name": "stdout",
     "output_type": "stream",
     "text": [
      "4200 ml\n"
     ]
    }
   ],
   "source": [
    "convertToml= Two_week*30\n",
    "print(convertToml,'ml')"
   ]
  },
  {
   "cell_type": "code",
   "execution_count": 75,
   "id": "8d462ddd",
   "metadata": {},
   "outputs": [
    {
     "name": "stdout",
     "output_type": "stream",
     "text": [
      "5.6\n"
     ]
    }
   ],
   "source": [
    "Bottles = convertToml/750\n",
    "print(Bottles)"
   ]
  },
  {
   "cell_type": "markdown",
   "id": "fc1dd083",
   "metadata": {},
   "source": [
    "Interpretation :-\n",
    "    - Matt requires 10oz per night which is 30 ml.\n",
    "    - for two weeks requires 4.2 ltr.\n",
    "    - when we calculated with bottle size its show 5.6 bottles.\n",
    "    - so he requires 6 bottles."
   ]
  },
  {
   "cell_type": "markdown",
   "id": "a4d379ed",
   "metadata": {},
   "source": [
    "- =============================================================================================================================="
   ]
  }
 ],
 "metadata": {
  "kernelspec": {
   "display_name": "Python 3 (ipykernel)",
   "language": "python",
   "name": "python3"
  },
  "language_info": {
   "codemirror_mode": {
    "name": "ipython",
    "version": 3
   },
   "file_extension": ".py",
   "mimetype": "text/x-python",
   "name": "python",
   "nbconvert_exporter": "python",
   "pygments_lexer": "ipython3",
   "version": "3.9.13"
  }
 },
 "nbformat": 4,
 "nbformat_minor": 5
}
